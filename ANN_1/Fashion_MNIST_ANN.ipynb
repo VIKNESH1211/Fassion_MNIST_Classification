{
  "nbformat": 4,
  "nbformat_minor": 0,
  "metadata": {
    "colab": {
      "provenance": []
    },
    "kernelspec": {
      "name": "python3",
      "display_name": "Python 3"
    },
    "language_info": {
      "name": "python"
    },
    "accelerator": "GPU"
  },
  "cells": [
    {
      "cell_type": "code",
      "execution_count": null,
      "metadata": {
        "id": "nSHnBHcjLtt-"
      },
      "outputs": [],
      "source": [
        "import tensorflow as tf \n",
        "from tensorflow import keras\n",
        "import matplotlib.pyplot as plt \n",
        "import numpy as np"
      ]
    },
    {
      "cell_type": "code",
      "source": [
        "(x_train,y_train),(x_test,y_test)= tf.keras.datasets.fashion_mnist.load_data()"
      ],
      "metadata": {
        "id": "U4qreLqAL0mi"
      },
      "execution_count": null,
      "outputs": []
    },
    {
      "cell_type": "code",
      "source": [
        "import sklearn\n",
        "from sklearn.model_selection import train_test_split"
      ],
      "metadata": {
        "id": "L7Au6S2rL5wz"
      },
      "execution_count": null,
      "outputs": []
    },
    {
      "cell_type": "code",
      "source": [
        "x_train,x_val,y_train,y_val = train_test_split(x_train,y_train,test_size=0.10,random_state=1)"
      ],
      "metadata": {
        "id": "ZGjOSJ74L8I8"
      },
      "execution_count": null,
      "outputs": []
    },
    {
      "cell_type": "code",
      "source": [
        "print(x_train.shape)\n",
        "print(x_test.shape)\n",
        "print(x_val.shape)\n",
        "print(y_train.shape)\n",
        "print(y_test.shape)\n",
        "print(y_val.shape)\n"
      ],
      "metadata": {
        "colab": {
          "base_uri": "https://localhost:8080/"
        },
        "id": "ajSlTPkPMa1K",
        "outputId": "2e47418c-883b-4276-9c33-8f93ffe76f48"
      },
      "execution_count": null,
      "outputs": [
        {
          "output_type": "stream",
          "name": "stdout",
          "text": [
            "(54000, 28, 28)\n",
            "(10000, 28, 28)\n",
            "(6000, 28, 28)\n",
            "(54000,)\n",
            "(10000,)\n",
            "(6000,)\n"
          ]
        }
      ]
    },
    {
      "cell_type": "code",
      "source": [
        "x_train  = x_train.reshape(54000,28,28,1)\n",
        "x_test  = x_test.reshape(10000,28,28,1)\n",
        "x_val  = x_val.reshape(6000,28,28,1)"
      ],
      "metadata": {
        "id": "GEsN_nWVMbk8"
      },
      "execution_count": null,
      "outputs": []
    },
    {
      "cell_type": "code",
      "source": [
        "print(x_train.shape)\n",
        "print(x_test.shape)\n",
        "print(x_val.shape)\n",
        "print(y_train.shape)\n",
        "print(y_test.shape)\n",
        "print(y_val.shape)"
      ],
      "metadata": {
        "colab": {
          "base_uri": "https://localhost:8080/"
        },
        "id": "wzIVgLxBMfiv",
        "outputId": "79bf865b-b51a-4e09-94bb-647a3e18771f"
      },
      "execution_count": null,
      "outputs": [
        {
          "output_type": "stream",
          "name": "stdout",
          "text": [
            "(54000, 28, 28, 1)\n",
            "(10000, 28, 28, 1)\n",
            "(6000, 28, 28, 1)\n",
            "(54000,)\n",
            "(10000,)\n",
            "(6000,)\n"
          ]
        }
      ]
    },
    {
      "cell_type": "code",
      "source": [
        "label = ['T-shirt/top','Trouser','Pullover','Dress','Coat','Sandal','Shirt','Sneaker','Bag','Ankle-boot']"
      ],
      "metadata": {
        "id": "dKeqm_W4MPaw"
      },
      "execution_count": null,
      "outputs": []
    },
    {
      "cell_type": "code",
      "source": [
        "print(x_train[3].min())\n",
        "print(x_train[3].max())"
      ],
      "metadata": {
        "colab": {
          "base_uri": "https://localhost:8080/"
        },
        "id": "wNM0B9eOMV7q",
        "outputId": "2150523b-9242-4eff-f06e-059db3290ed9"
      },
      "execution_count": null,
      "outputs": [
        {
          "output_type": "stream",
          "name": "stdout",
          "text": [
            "0\n",
            "255\n"
          ]
        }
      ]
    },
    {
      "cell_type": "code",
      "source": [
        "x_train = x_train/255\n",
        "x_test = x_test/255\n",
        "x_val = x_val/255"
      ],
      "metadata": {
        "id": "wwKRFvq5MntL"
      },
      "execution_count": null,
      "outputs": []
    },
    {
      "cell_type": "code",
      "source": [
        "print(x_train[3].min())\n",
        "print(x_train[3].max())"
      ],
      "metadata": {
        "colab": {
          "base_uri": "https://localhost:8080/"
        },
        "id": "wLqFSHs0MqTN",
        "outputId": "de1551b7-58f1-4386-faab-02c5d3f4eb5a"
      },
      "execution_count": null,
      "outputs": [
        {
          "output_type": "stream",
          "name": "stdout",
          "text": [
            "0.0\n",
            "1.0\n"
          ]
        }
      ]
    },
    {
      "cell_type": "code",
      "source": [
        "[x_train][0].shape"
      ],
      "metadata": {
        "colab": {
          "base_uri": "https://localhost:8080/"
        },
        "id": "Nievc5qWMsO6",
        "outputId": "e6954114-9876-42a0-b58d-58eceb83630b"
      },
      "execution_count": null,
      "outputs": [
        {
          "output_type": "execute_result",
          "data": {
            "text/plain": [
              "(54000, 28, 28, 1)"
            ]
          },
          "metadata": {},
          "execution_count": 13
        }
      ]
    },
    {
      "cell_type": "code",
      "source": [
        "y_train[0].shape"
      ],
      "metadata": {
        "colab": {
          "base_uri": "https://localhost:8080/"
        },
        "id": "2apUJF0oMu6p",
        "outputId": "ad999b75-8f5f-47bb-a261-7d9cd7247dd2"
      },
      "execution_count": null,
      "outputs": [
        {
          "output_type": "execute_result",
          "data": {
            "text/plain": [
              "()"
            ]
          },
          "metadata": {},
          "execution_count": 14
        }
      ]
    },
    {
      "cell_type": "markdown",
      "source": [
        "MODEL"
      ],
      "metadata": {
        "id": "gJobYTjQMzrO"
      }
    },
    {
      "cell_type": "code",
      "source": [
        "model2 = tf.keras.models.Sequential()"
      ],
      "metadata": {
        "id": "etpC7qniMxi9"
      },
      "execution_count": null,
      "outputs": []
    },
    {
      "cell_type": "code",
      "source": [
        "#rules to define neurons for the hidden layer\n",
        "# neurons between 10 and 784\n",
        "\n",
        "\n",
        "model2.add(keras.layers.Flatten(input_shape = x_train[0].shape))\n",
        "model2.add(keras.layers.Dense(532 , activation = 'relu'))\n",
        "model2.add(keras.layers.Dense(10 , activation = 'Softmax'))"
      ],
      "metadata": {
        "id": "spjiis3uNOGX"
      },
      "execution_count": null,
      "outputs": []
    },
    {
      "cell_type": "code",
      "source": [
        "model2.compile(optimizer = 'SGD', loss = tf.keras.losses.SparseCategoricalCrossentropy() , metrics = ['accuracy'])"
      ],
      "metadata": {
        "id": "CLBEUX32N9WF"
      },
      "execution_count": null,
      "outputs": []
    },
    {
      "cell_type": "code",
      "source": [
        "history = model2.fit(x_test,y_test , validation_data = (x_val,y_val) , epochs = 20)"
      ],
      "metadata": {
        "colab": {
          "base_uri": "https://localhost:8080/"
        },
        "id": "U7BUSaZ-OaUk",
        "outputId": "f3f5e893-b211-4aae-d9e7-766b71f69115"
      },
      "execution_count": null,
      "outputs": [
        {
          "output_type": "stream",
          "name": "stdout",
          "text": [
            "Epoch 1/20\n",
            "313/313 [==============================] - 2s 5ms/step - loss: 0.0898 - accuracy: 0.9702 - val_loss: 0.3987 - val_accuracy: 0.8748\n",
            "Epoch 2/20\n",
            "313/313 [==============================] - 1s 5ms/step - loss: 0.0890 - accuracy: 0.9697 - val_loss: 0.4019 - val_accuracy: 0.8742\n",
            "Epoch 3/20\n",
            "313/313 [==============================] - 1s 4ms/step - loss: 0.0883 - accuracy: 0.9712 - val_loss: 0.4022 - val_accuracy: 0.8748\n",
            "Epoch 4/20\n",
            "313/313 [==============================] - 1s 5ms/step - loss: 0.0874 - accuracy: 0.9717 - val_loss: 0.4020 - val_accuracy: 0.8742\n",
            "Epoch 5/20\n",
            "313/313 [==============================] - 1s 4ms/step - loss: 0.0868 - accuracy: 0.9716 - val_loss: 0.4033 - val_accuracy: 0.8742\n",
            "Epoch 6/20\n",
            "313/313 [==============================] - 1s 4ms/step - loss: 0.0857 - accuracy: 0.9718 - val_loss: 0.4051 - val_accuracy: 0.8745\n",
            "Epoch 7/20\n",
            "313/313 [==============================] - 1s 5ms/step - loss: 0.0854 - accuracy: 0.9716 - val_loss: 0.4050 - val_accuracy: 0.8742\n",
            "Epoch 8/20\n",
            "313/313 [==============================] - 1s 4ms/step - loss: 0.0849 - accuracy: 0.9724 - val_loss: 0.4064 - val_accuracy: 0.8733\n",
            "Epoch 9/20\n",
            "313/313 [==============================] - 1s 5ms/step - loss: 0.0839 - accuracy: 0.9719 - val_loss: 0.4076 - val_accuracy: 0.8738\n",
            "Epoch 10/20\n",
            "313/313 [==============================] - 1s 4ms/step - loss: 0.0837 - accuracy: 0.9723 - val_loss: 0.4071 - val_accuracy: 0.8733\n",
            "Epoch 11/20\n",
            "313/313 [==============================] - 1s 5ms/step - loss: 0.0829 - accuracy: 0.9730 - val_loss: 0.4097 - val_accuracy: 0.8737\n",
            "Epoch 12/20\n",
            "313/313 [==============================] - 2s 5ms/step - loss: 0.0826 - accuracy: 0.9729 - val_loss: 0.4092 - val_accuracy: 0.8742\n",
            "Epoch 13/20\n",
            "313/313 [==============================] - 2s 6ms/step - loss: 0.0819 - accuracy: 0.9726 - val_loss: 0.4102 - val_accuracy: 0.8747\n",
            "Epoch 14/20\n",
            "313/313 [==============================] - 1s 4ms/step - loss: 0.0812 - accuracy: 0.9728 - val_loss: 0.4119 - val_accuracy: 0.8740\n",
            "Epoch 15/20\n",
            "313/313 [==============================] - 2s 5ms/step - loss: 0.0806 - accuracy: 0.9742 - val_loss: 0.4114 - val_accuracy: 0.8738\n",
            "Epoch 16/20\n",
            "313/313 [==============================] - 1s 4ms/step - loss: 0.0801 - accuracy: 0.9740 - val_loss: 0.4127 - val_accuracy: 0.8742\n",
            "Epoch 17/20\n",
            "313/313 [==============================] - 1s 4ms/step - loss: 0.0793 - accuracy: 0.9737 - val_loss: 0.4130 - val_accuracy: 0.8732\n",
            "Epoch 18/20\n",
            "313/313 [==============================] - 1s 4ms/step - loss: 0.0789 - accuracy: 0.9747 - val_loss: 0.4147 - val_accuracy: 0.8732\n",
            "Epoch 19/20\n",
            "313/313 [==============================] - 1s 5ms/step - loss: 0.0785 - accuracy: 0.9748 - val_loss: 0.4149 - val_accuracy: 0.8740\n",
            "Epoch 20/20\n",
            "313/313 [==============================] - 1s 5ms/step - loss: 0.0776 - accuracy: 0.9749 - val_loss: 0.4153 - val_accuracy: 0.8722\n"
          ]
        }
      ]
    },
    {
      "cell_type": "code",
      "source": [
        "model2.evaluate(x_test,y_test , verbose = '1')"
      ],
      "metadata": {
        "colab": {
          "base_uri": "https://localhost:8080/"
        },
        "id": "54AzQLQgR_c8",
        "outputId": "482d7e16-e7c0-4b0f-a48c-810b286bc8f5"
      },
      "execution_count": null,
      "outputs": [
        {
          "output_type": "execute_result",
          "data": {
            "text/plain": [
              "[0.07543325424194336, 0.9758999943733215]"
            ]
          },
          "metadata": {},
          "execution_count": 29
        }
      ]
    },
    {
      "cell_type": "code",
      "source": [
        "model2.save(\"model2.hdf5\")"
      ],
      "metadata": {
        "id": "G5N8KANGSwlN"
      },
      "execution_count": null,
      "outputs": []
    },
    {
      "cell_type": "code",
      "source": [
        "import matplotlib.pyplot as plt\n",
        "\n",
        "\n",
        "def plot_hist(hist):\n",
        "    plt.plot(hist.history[\"loss\"])\n",
        "    plt.plot(hist.history[\"val_loss\"])\n",
        "    plt.title(\"loss\")\n",
        "    plt.ylabel(\"loss\")\n",
        "    plt.xlabel(\"epoch\")\n",
        "    plt.legend([\"train\", \"validation\"], loc=\"upper left\")\n",
        "    plt.show()"
      ],
      "metadata": {
        "id": "4MyZvc8uTFL_"
      },
      "execution_count": null,
      "outputs": []
    },
    {
      "cell_type": "code",
      "source": [
        "plot_hist(history)"
      ],
      "metadata": {
        "id": "AjqYUj29TGRq"
      },
      "execution_count": null,
      "outputs": []
    }
  ]
}